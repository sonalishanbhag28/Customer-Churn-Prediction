{
 "cells": [
  {
   "cell_type": "markdown",
   "id": "91631b4f",
   "metadata": {},
   "source": [
    "# Business Intelligence and Analytics\n",
    "\n",
    "### Digital Assignment- Customer Churn Prediction\n",
    "\n",
    "Sonali Shripad Shanbhag (19BDS0114)"
   ]
  },
  {
   "cell_type": "markdown",
   "id": "1ad98398",
   "metadata": {},
   "source": [
    "## 1. Import required libraries and packages"
   ]
  },
  {
   "cell_type": "code",
   "execution_count": 1,
   "id": "a9a9ba8d",
   "metadata": {},
   "outputs": [],
   "source": [
    "import pandas as pd\n",
    "import numpy as np\n",
    "import sklearn\n",
    "import matplotlib.pyplot as plt\n",
    "import seaborn as sns\n",
    "import tensorflow as tf\n",
    "from sklearn import preprocessing\n",
    "from sklearn.preprocessing import LabelEncoder\n",
    "from sklearn.model_selection import train_test_split\n",
    "from sklearn.feature_extraction.text import CountVectorizer\n",
    "from tensorflow.keras.layers import *\n",
    "from tensorflow.keras.models import *\n",
    "from tensorflow.keras.preprocessing.sequence import pad_sequences\n",
    "from tensorflow.keras.preprocessing.text import one_hot\n",
    "from sklearn.linear_model import LogisticRegression\n",
    "from sklearn.naive_bayes import GaussianNB\n",
    "from sklearn.linear_model import SGDClassifier\n",
    "from sklearn.neighbors import KNeighborsClassifier\n",
    "from sklearn.tree import DecisionTreeClassifier\n",
    "from sklearn.ensemble import RandomForestClassifier\n",
    "from sklearn.svm import SVC \n",
    "from sklearn.metrics import confusion_matrix, accuracy_score, precision_score, recall_score, f1_score, classification_report\n",
    "from sklearn.preprocessing import StandardScaler\n",
    "import warnings\n",
    "warnings.filterwarnings('ignore')"
   ]
  },
  {
   "cell_type": "markdown",
   "id": "d8ce6aeb",
   "metadata": {},
   "source": [
    "## 2. Read the dataset"
   ]
  },
  {
   "cell_type": "code",
   "execution_count": 2,
   "id": "ac6e31ec",
   "metadata": {},
   "outputs": [],
   "source": [
    "dataset=pd.read_csv(\"C:\\\\Users\\\\sonali\\\\Desktop\\\\Sem 6\\\\C2- Business Intelligence and Analytics\\\\Churn Modelling.csv\")"
   ]
  },
  {
   "cell_type": "code",
   "execution_count": 3,
   "id": "56e1e12c",
   "metadata": {},
   "outputs": [
    {
     "data": {
      "text/html": [
       "<div>\n",
       "<style scoped>\n",
       "    .dataframe tbody tr th:only-of-type {\n",
       "        vertical-align: middle;\n",
       "    }\n",
       "\n",
       "    .dataframe tbody tr th {\n",
       "        vertical-align: top;\n",
       "    }\n",
       "\n",
       "    .dataframe thead th {\n",
       "        text-align: right;\n",
       "    }\n",
       "</style>\n",
       "<table border=\"1\" class=\"dataframe\">\n",
       "  <thead>\n",
       "    <tr style=\"text-align: right;\">\n",
       "      <th></th>\n",
       "      <th>RowNumber</th>\n",
       "      <th>CustomerId</th>\n",
       "      <th>CreditScore</th>\n",
       "      <th>Age</th>\n",
       "      <th>Tenure</th>\n",
       "      <th>Balance</th>\n",
       "      <th>NumOfProducts</th>\n",
       "      <th>HasCrCard</th>\n",
       "      <th>IsActiveMember</th>\n",
       "      <th>EstimatedSalary</th>\n",
       "      <th>Exited</th>\n",
       "    </tr>\n",
       "  </thead>\n",
       "  <tbody>\n",
       "    <tr>\n",
       "      <th>count</th>\n",
       "      <td>10000.00000</td>\n",
       "      <td>1.000000e+04</td>\n",
       "      <td>10000.000000</td>\n",
       "      <td>10000.000000</td>\n",
       "      <td>10000.000000</td>\n",
       "      <td>10000.000000</td>\n",
       "      <td>10000.000000</td>\n",
       "      <td>10000.00000</td>\n",
       "      <td>10000.000000</td>\n",
       "      <td>10000.000000</td>\n",
       "      <td>10000.000000</td>\n",
       "    </tr>\n",
       "    <tr>\n",
       "      <th>mean</th>\n",
       "      <td>5000.50000</td>\n",
       "      <td>1.569094e+07</td>\n",
       "      <td>650.528800</td>\n",
       "      <td>38.921800</td>\n",
       "      <td>5.012800</td>\n",
       "      <td>76485.889288</td>\n",
       "      <td>1.530200</td>\n",
       "      <td>0.70550</td>\n",
       "      <td>0.515100</td>\n",
       "      <td>100090.239881</td>\n",
       "      <td>0.203700</td>\n",
       "    </tr>\n",
       "    <tr>\n",
       "      <th>std</th>\n",
       "      <td>2886.89568</td>\n",
       "      <td>7.193619e+04</td>\n",
       "      <td>96.653299</td>\n",
       "      <td>10.487806</td>\n",
       "      <td>2.892174</td>\n",
       "      <td>62397.405202</td>\n",
       "      <td>0.581654</td>\n",
       "      <td>0.45584</td>\n",
       "      <td>0.499797</td>\n",
       "      <td>57510.492818</td>\n",
       "      <td>0.402769</td>\n",
       "    </tr>\n",
       "    <tr>\n",
       "      <th>min</th>\n",
       "      <td>1.00000</td>\n",
       "      <td>1.556570e+07</td>\n",
       "      <td>350.000000</td>\n",
       "      <td>18.000000</td>\n",
       "      <td>0.000000</td>\n",
       "      <td>0.000000</td>\n",
       "      <td>1.000000</td>\n",
       "      <td>0.00000</td>\n",
       "      <td>0.000000</td>\n",
       "      <td>11.580000</td>\n",
       "      <td>0.000000</td>\n",
       "    </tr>\n",
       "    <tr>\n",
       "      <th>25%</th>\n",
       "      <td>2500.75000</td>\n",
       "      <td>1.562853e+07</td>\n",
       "      <td>584.000000</td>\n",
       "      <td>32.000000</td>\n",
       "      <td>3.000000</td>\n",
       "      <td>0.000000</td>\n",
       "      <td>1.000000</td>\n",
       "      <td>0.00000</td>\n",
       "      <td>0.000000</td>\n",
       "      <td>51002.110000</td>\n",
       "      <td>0.000000</td>\n",
       "    </tr>\n",
       "    <tr>\n",
       "      <th>50%</th>\n",
       "      <td>5000.50000</td>\n",
       "      <td>1.569074e+07</td>\n",
       "      <td>652.000000</td>\n",
       "      <td>37.000000</td>\n",
       "      <td>5.000000</td>\n",
       "      <td>97198.540000</td>\n",
       "      <td>1.000000</td>\n",
       "      <td>1.00000</td>\n",
       "      <td>1.000000</td>\n",
       "      <td>100193.915000</td>\n",
       "      <td>0.000000</td>\n",
       "    </tr>\n",
       "    <tr>\n",
       "      <th>75%</th>\n",
       "      <td>7500.25000</td>\n",
       "      <td>1.575323e+07</td>\n",
       "      <td>718.000000</td>\n",
       "      <td>44.000000</td>\n",
       "      <td>7.000000</td>\n",
       "      <td>127644.240000</td>\n",
       "      <td>2.000000</td>\n",
       "      <td>1.00000</td>\n",
       "      <td>1.000000</td>\n",
       "      <td>149388.247500</td>\n",
       "      <td>0.000000</td>\n",
       "    </tr>\n",
       "    <tr>\n",
       "      <th>max</th>\n",
       "      <td>10000.00000</td>\n",
       "      <td>1.581569e+07</td>\n",
       "      <td>850.000000</td>\n",
       "      <td>92.000000</td>\n",
       "      <td>10.000000</td>\n",
       "      <td>250898.090000</td>\n",
       "      <td>4.000000</td>\n",
       "      <td>1.00000</td>\n",
       "      <td>1.000000</td>\n",
       "      <td>199992.480000</td>\n",
       "      <td>1.000000</td>\n",
       "    </tr>\n",
       "  </tbody>\n",
       "</table>\n",
       "</div>"
      ],
      "text/plain": [
       "         RowNumber    CustomerId   CreditScore           Age        Tenure  \\\n",
       "count  10000.00000  1.000000e+04  10000.000000  10000.000000  10000.000000   \n",
       "mean    5000.50000  1.569094e+07    650.528800     38.921800      5.012800   \n",
       "std     2886.89568  7.193619e+04     96.653299     10.487806      2.892174   \n",
       "min        1.00000  1.556570e+07    350.000000     18.000000      0.000000   \n",
       "25%     2500.75000  1.562853e+07    584.000000     32.000000      3.000000   \n",
       "50%     5000.50000  1.569074e+07    652.000000     37.000000      5.000000   \n",
       "75%     7500.25000  1.575323e+07    718.000000     44.000000      7.000000   \n",
       "max    10000.00000  1.581569e+07    850.000000     92.000000     10.000000   \n",
       "\n",
       "             Balance  NumOfProducts    HasCrCard  IsActiveMember  \\\n",
       "count   10000.000000   10000.000000  10000.00000    10000.000000   \n",
       "mean    76485.889288       1.530200      0.70550        0.515100   \n",
       "std     62397.405202       0.581654      0.45584        0.499797   \n",
       "min         0.000000       1.000000      0.00000        0.000000   \n",
       "25%         0.000000       1.000000      0.00000        0.000000   \n",
       "50%     97198.540000       1.000000      1.00000        1.000000   \n",
       "75%    127644.240000       2.000000      1.00000        1.000000   \n",
       "max    250898.090000       4.000000      1.00000        1.000000   \n",
       "\n",
       "       EstimatedSalary        Exited  \n",
       "count     10000.000000  10000.000000  \n",
       "mean     100090.239881      0.203700  \n",
       "std       57510.492818      0.402769  \n",
       "min          11.580000      0.000000  \n",
       "25%       51002.110000      0.000000  \n",
       "50%      100193.915000      0.000000  \n",
       "75%      149388.247500      0.000000  \n",
       "max      199992.480000      1.000000  "
      ]
     },
     "execution_count": 3,
     "metadata": {},
     "output_type": "execute_result"
    }
   ],
   "source": [
    "dataset.describe()"
   ]
  },
  {
   "cell_type": "markdown",
   "id": "25eee21c",
   "metadata": {},
   "source": [
    "## 3. Exploratory Data Visualization"
   ]
  },
  {
   "cell_type": "code",
   "execution_count": 4,
   "id": "b232d775",
   "metadata": {},
   "outputs": [
    {
     "data": {
      "image/png": "[encoded data removed]",
      "text/plain": [
       "<Figure size 720x576 with 1 Axes>"
      ]
     },
     "metadata": {},
     "output_type": "display_data"
    }
   ],
   "source": [
    "labels = 'Churned', 'Retained'\n",
    "sizes = [dataset.Exited[dataset['Exited']==1].count(), dataset.Exited[dataset['Exited']==0].count()]\n",
    "fig1, ax1 = plt.subplots(figsize=(10, 8))\n",
    "ax1.pie(sizes, explode=(0, 0.1), labels=labels, autopct='%1.1f%%')\n",
    "ax1.axis('equal')\n",
    "plt.title(\"Customers Churned and Retained\", size = 20)\n",
    "plt.show()"
   ]
  },
  {
   "cell_type": "markdown",
   "id": "434795e4",
   "metadata": {},
   "source": [
    "### i. Categorical Data"
   ]
  },
  {
   "cell_type": "code",
   "execution_count": 5,
   "id": "c9de3dde",
   "metadata": {},
   "outputs": [
    {
     "data": {
      "text/plain": [
       "<AxesSubplot:xlabel='IsActiveMember', ylabel='count'>"
      ]
     },
     "execution_count": 5,
     "metadata": {},
     "output_type": "execute_result"
    },
    {
     "data": {
      "image/png": "[encoded data removed]",
      "text/plain": [
       "<Figure size 1440x864 with 4 Axes>"
      ]
     },
     "metadata": {
      "needs_background": "light"
     },
     "output_type": "display_data"
    }
   ],
   "source": [
    "fig, axarr = plt.subplots(2, 2, figsize=(20, 12))\n",
    "sns.countplot(x='Geography', hue = 'Exited',data = dataset, ax=axarr[0][0])\n",
    "sns.countplot(x='Gender', hue = 'Exited',data = dataset, ax=axarr[0][1])\n",
    "sns.countplot(x='HasCrCard', hue = 'Exited',data = dataset, ax=axarr[1][0])\n",
    "sns.countplot(x='IsActiveMember', hue = 'Exited',data = dataset, ax=axarr[1][1])"
   ]
  },
  {
   "cell_type": "markdown",
   "id": "40459474",
   "metadata": {},
   "source": [
    "#### Inferences: \n",
    "- The proportion of churned customers is inversely related to the population of customers, which might imply insufficient customer services/relation management.\n",
    "- Female customer churn is greater than male customer churn.\n",
    "- Majority of the customers that churned are those with credit cards. \n",
    "- Inactive members have a greater churn. "
   ]
  },
  {
   "cell_type": "markdown",
   "id": "b491b2c6",
   "metadata": {},
   "source": [
    "### ii. Continuous Data"
   ]
  },
  {
   "cell_type": "code",
   "execution_count": 6,
   "id": "45735eca",
   "metadata": {},
   "outputs": [
    {
     "data": {
      "text/plain": [
       "<AxesSubplot:xlabel='Exited', ylabel='EstimatedSalary'>"
      ]
     },
     "execution_count": 6,
     "metadata": {},
     "output_type": "execute_result"
    },
    {
     "data": {
      "image/png": "[encoded data removed]",
      "text/plain": [
       "<Figure size 1440x864 with 6 Axes>"
      ]
     },
     "metadata": {
      "needs_background": "light"
     },
     "output_type": "display_data"
    }
   ],
   "source": [
    "fig, axarr = plt.subplots(3, 2, figsize=(20, 12))\n",
    "sns.boxplot(y='CreditScore',x = 'Exited', hue = 'Exited',data = dataset, ax=axarr[0][0])\n",
    "sns.boxplot(y='Age',x = 'Exited', hue = 'Exited',data = dataset , ax=axarr[0][1])\n",
    "sns.boxplot(y='Tenure',x = 'Exited', hue = 'Exited',data = dataset, ax=axarr[1][0])\n",
    "sns.boxplot(y='Balance',x = 'Exited', hue = 'Exited',data = dataset, ax=axarr[1][1])\n",
    "sns.boxplot(y='NumOfProducts',x = 'Exited', hue = 'Exited',data = dataset, ax=axarr[2][0])\n",
    "sns.boxplot(y='EstimatedSalary',x = 'Exited', hue = 'Exited',data = dataset, ax=axarr[2][1])"
   ]
  },
  {
   "cell_type": "markdown",
   "id": "8c804bdd",
   "metadata": {},
   "source": [
    "#### Inferences: \n",
    "\n",
    "- There is no significant difference in the credit score distribution between retained and churned customers.\n",
    "- The older customers are churning more than the younger ones.\n",
    "- The clients who spent little time/a lot of time with the bank are more likely to churn compared to those that are of average tenure.\n",
    "- The bank is losing customers with greater bank balance.\n",
    "- Neither the product nor the salary has a significant effect on the likelihood to churn."
   ]
  },
  {
   "cell_type": "markdown",
   "id": "6becb930",
   "metadata": {},
   "source": [
    "## 4. Data Pre-processing"
   ]
  },
  {
   "cell_type": "markdown",
   "id": "dbfb30e9",
   "metadata": {},
   "source": [
    "#### i. Remove unnecessary columns"
   ]
  },
  {
   "cell_type": "code",
   "execution_count": 7,
   "id": "57ce7b4b",
   "metadata": {},
   "outputs": [],
   "source": [
    "dataset = dataset.drop(dataset.columns[[0, 1, 2]], axis=1) "
   ]
  },
  {
   "cell_type": "markdown",
   "id": "8eccb3b7",
   "metadata": {},
   "source": [
    "#### ii. Label encode the categorical columns"
   ]
  },
  {
   "cell_type": "code",
   "execution_count": 8,
   "id": "de257327",
   "metadata": {},
   "outputs": [],
   "source": [
    "le=LabelEncoder()\n",
    "dataset['Geography']=le.fit_transform(dataset['Geography'])\n",
    "dataset['Gender']=le.fit_transform(dataset['Gender'])"
   ]
  },
  {
   "cell_type": "markdown",
   "id": "7596eb4d",
   "metadata": {},
   "source": [
    "#### iii. Split into dependent and independent variables"
   ]
  },
  {
   "cell_type": "code",
   "execution_count": 9,
   "id": "589b8a4c",
   "metadata": {},
   "outputs": [],
   "source": [
    "x = dataset.iloc[:,0:10].values\n",
    "y = dataset.iloc[:,10].values"
   ]
  },
  {
   "cell_type": "markdown",
   "id": "a32a997c",
   "metadata": {},
   "source": [
    "#### iv. Normalize continuous variables using Standard Scaler"
   ]
  },
  {
   "cell_type": "code",
   "execution_count": 10,
   "id": "089da5b5",
   "metadata": {},
   "outputs": [],
   "source": [
    "sc = StandardScaler()\n",
    "x = sc.fit_transform(x)"
   ]
  },
  {
   "cell_type": "markdown",
   "id": "5579ef95",
   "metadata": {},
   "source": [
    "#### v. Split into train and test sets"
   ]
  },
  {
   "cell_type": "code",
   "execution_count": 11,
   "id": "fc9e474b",
   "metadata": {},
   "outputs": [],
   "source": [
    "x_train, x_test, y_train, y_test = train_test_split(x,y,test_size=0.3,random_state=0)"
   ]
  },
  {
   "cell_type": "code",
   "execution_count": 12,
   "id": "1faba3ec",
   "metadata": {},
   "outputs": [
    {
     "name": "stdout",
     "output_type": "stream",
     "text": [
      "(7000, 10)\n",
      "(3000, 10)\n",
      "(7000,)\n",
      "(3000,)\n"
     ]
    }
   ],
   "source": [
    "print(x_train.shape)\n",
    "print(x_test.shape)\n",
    "print(y_train.shape)\n",
    "print(y_test.shape)"
   ]
  },
  {
   "cell_type": "markdown",
   "id": "b56ebbc9",
   "metadata": {},
   "source": [
    "## 5. Apply ML Algorithms"
   ]
  },
  {
   "cell_type": "markdown",
   "id": "02054c99",
   "metadata": {},
   "source": [
    "### Logistic Regression"
   ]
  },
  {
   "cell_type": "code",
   "execution_count": 13,
   "id": "5b691d51",
   "metadata": {},
   "outputs": [
    {
     "name": "stdout",
     "output_type": "stream",
     "text": [
      "Logistic Regression Accuracy: \n",
      "80.30000000000001 %\n"
     ]
    }
   ],
   "source": [
    "lr=LogisticRegression()\n",
    "lr.fit(x_train,y_train)\n",
    "lr_ypred=lr.predict(x_test)\n",
    "lr_acc = sklearn.metrics.accuracy_score(lr_ypred,y_test)\n",
    "print(\"Logistic Regression Accuracy: \")\n",
    "print(lr_acc*100,\"%\")"
   ]
  },
  {
   "cell_type": "markdown",
   "id": "b5a1e1d4",
   "metadata": {},
   "source": [
    "### Naive Bayes"
   ]
  },
  {
   "cell_type": "code",
   "execution_count": 14,
   "id": "293014fc",
   "metadata": {},
   "outputs": [
    {
     "name": "stdout",
     "output_type": "stream",
     "text": [
      "Naive Bayes Accuracy: \n",
      "82.13333333333334 %\n"
     ]
    }
   ],
   "source": [
    "nb=GaussianNB()\n",
    "nb.fit(x_train,y_train)\n",
    "nb_ypred=nb.predict(x_test)\n",
    "nb_acc = sklearn.metrics.accuracy_score(nb_ypred,y_test)\n",
    "print(\"Naive Bayes Accuracy: \")\n",
    "print(nb_acc*100,\"%\")"
   ]
  },
  {
   "cell_type": "markdown",
   "id": "11ec1bc4",
   "metadata": {},
   "source": [
    "### Stochastic Gradient Descent"
   ]
  },
  {
   "cell_type": "code",
   "execution_count": 15,
   "id": "89dd7c3d",
   "metadata": {},
   "outputs": [
    {
     "name": "stdout",
     "output_type": "stream",
     "text": [
      "Stochastic Gradient Descent Accuracy: \n",
      "78.0 %\n"
     ]
    }
   ],
   "source": [
    "sgd=SGDClassifier(loss='modified_huber',shuffle=True, random_state=15)\n",
    "sgd.fit(x_train,y_train)\n",
    "sgd_ypred=sgd.predict(x_test)\n",
    "sgd_acc = sklearn.metrics.accuracy_score(sgd_ypred,y_test)\n",
    "print(\"Stochastic Gradient Descent Accuracy: \")\n",
    "print(sgd_acc*100,\"%\")"
   ]
  },
  {
   "cell_type": "markdown",
   "id": "c6562dc5",
   "metadata": {},
   "source": [
    "### K-Nearest Neighbours"
   ]
  },
  {
   "cell_type": "code",
   "execution_count": 16,
   "id": "b354d011",
   "metadata": {},
   "outputs": [
    {
     "name": "stdout",
     "output_type": "stream",
     "text": [
      "K-Nearest Neighbour Accuracy: \n",
      "82.56666666666666 %\n"
     ]
    }
   ],
   "source": [
    "knn=KNeighborsClassifier(n_neighbors=3)\n",
    "knn.fit(x_train,y_train)\n",
    "knn_ypred=knn.predict(x_test)\n",
    "knn_acc = sklearn.metrics.accuracy_score(knn_ypred,y_test)\n",
    "print(\"K-Nearest Neighbour Accuracy: \")\n",
    "print(knn_acc*100,\"%\")"
   ]
  },
  {
   "cell_type": "markdown",
   "id": "452680e1",
   "metadata": {},
   "source": [
    "### Decision Tree"
   ]
  },
  {
   "cell_type": "code",
   "execution_count": 17,
   "id": "dba01e08",
   "metadata": {},
   "outputs": [
    {
     "name": "stdout",
     "output_type": "stream",
     "text": [
      "Decision Tree Accuracy: \n",
      "84.3 %\n"
     ]
    }
   ],
   "source": [
    "dtree=DecisionTreeClassifier(max_depth=100,random_state=10,max_features=None, min_samples_leaf=100)\n",
    "dtree.fit(x_train,y_train)\n",
    "dtree_ypred=dtree.predict(x_test)\n",
    "dtree_acc = sklearn.metrics.accuracy_score(dtree_ypred,y_test)\n",
    "print(\"Decision Tree Accuracy: \")\n",
    "print(dtree_acc*100,\"%\")"
   ]
  },
  {
   "cell_type": "markdown",
   "id": "e27ccca7",
   "metadata": {},
   "source": [
    "### Random Forest"
   ]
  },
  {
   "cell_type": "code",
   "execution_count": 18,
   "id": "75f33bc0",
   "metadata": {},
   "outputs": [
    {
     "name": "stdout",
     "output_type": "stream",
     "text": [
      "Random Forest Accuracy: \n",
      "86.36666666666667 %\n"
     ]
    }
   ],
   "source": [
    "rfm=RandomForestClassifier(n_estimators=200,oob_score=True,n_jobs=-1, random_state=20,max_features=None,min_samples_leaf=2)\n",
    "rfm.fit(x_train,y_train)\n",
    "rfm_ypred=rfm.predict(x_test)\n",
    "rfm_acc = sklearn.metrics.accuracy_score(rfm_ypred,y_test)\n",
    "print(\"Random Forest Accuracy: \")\n",
    "print(rfm_acc*100,\"%\")"
   ]
  },
  {
   "cell_type": "markdown",
   "id": "503eb0bf",
   "metadata": {},
   "source": [
    "### Support Vector Machine"
   ]
  },
  {
   "cell_type": "code",
   "execution_count": 19,
   "id": "1dacef0a",
   "metadata": {},
   "outputs": [
    {
     "name": "stdout",
     "output_type": "stream",
     "text": [
      "Support Vector Machine Accuracy: \n",
      "79.3 %\n"
     ]
    }
   ],
   "source": [
    "svm=SVC(kernel=\"linear\",C=0.025,random_state=None)\n",
    "svm.fit(x_train,y_train)\n",
    "svm_ypred=svm.predict(x_test)\n",
    "svm_acc = sklearn.metrics.accuracy_score(svm_ypred,y_test)\n",
    "print(\"Support Vector Machine Accuracy: \")\n",
    "print(svm_acc*100,\"%\")"
   ]
  },
  {
   "cell_type": "markdown",
   "id": "51bec1b1",
   "metadata": {},
   "source": [
    "## 6. ML Model Evaluation"
   ]
  },
  {
   "cell_type": "markdown",
   "id": "2a650caa",
   "metadata": {},
   "source": [
    "#### i. Classification Report"
   ]
  },
  {
   "cell_type": "code",
   "execution_count": 20,
   "id": "51308159",
   "metadata": {},
   "outputs": [
    {
     "name": "stdout",
     "output_type": "stream",
     "text": [
      "For LR\n",
      "              precision    recall  f1-score   support\n",
      "\n",
      "      Stayed       0.82      0.97      0.89      2379\n",
      "     Churned       0.58      0.17      0.27       621\n",
      "\n",
      "    accuracy                           0.80      3000\n",
      "   macro avg       0.70      0.57      0.58      3000\n",
      "weighted avg       0.77      0.80      0.76      3000\n",
      "\n",
      "-----------------------------------------------------------------\n",
      "For Naive Bayes\n",
      "              precision    recall  f1-score   support\n",
      "\n",
      "      Stayed       0.83      0.97      0.90      2379\n",
      "     Churned       0.68      0.26      0.37       621\n",
      "\n",
      "    accuracy                           0.82      3000\n",
      "   macro avg       0.76      0.61      0.63      3000\n",
      "weighted avg       0.80      0.82      0.79      3000\n",
      "\n",
      "-----------------------------------------------------------------\n",
      "For SGD\n",
      "              precision    recall  f1-score   support\n",
      "\n",
      "      Stayed       0.81      0.94      0.87      2379\n",
      "     Churned       0.42      0.17      0.24       621\n",
      "\n",
      "    accuracy                           0.78      3000\n",
      "   macro avg       0.62      0.55      0.56      3000\n",
      "weighted avg       0.73      0.78      0.74      3000\n",
      "\n",
      "-----------------------------------------------------------------\n",
      "For KNN\n",
      "              precision    recall  f1-score   support\n",
      "\n",
      "      Stayed       0.87      0.92      0.89      2379\n",
      "     Churned       0.61      0.45      0.52       621\n",
      "\n",
      "    accuracy                           0.83      3000\n",
      "   macro avg       0.74      0.69      0.71      3000\n",
      "weighted avg       0.81      0.83      0.82      3000\n",
      "\n",
      "-----------------------------------------------------------------\n",
      "For Decision Tree\n",
      "              precision    recall  f1-score   support\n",
      "\n",
      "      Stayed       0.86      0.96      0.91      2379\n",
      "     Churned       0.71      0.40      0.52       621\n",
      "\n",
      "    accuracy                           0.84      3000\n",
      "   macro avg       0.79      0.68      0.71      3000\n",
      "weighted avg       0.83      0.84      0.83      3000\n",
      "\n",
      "-----------------------------------------------------------------\n",
      "For Random Forest\n",
      "              precision    recall  f1-score   support\n",
      "\n",
      "      Stayed       0.89      0.95      0.92      2379\n",
      "     Churned       0.74      0.53      0.62       621\n",
      "\n",
      "    accuracy                           0.86      3000\n",
      "   macro avg       0.81      0.74      0.77      3000\n",
      "weighted avg       0.86      0.86      0.85      3000\n",
      "\n",
      "-----------------------------------------------------------------\n",
      "For SVM\n",
      "              precision    recall  f1-score   support\n",
      "\n",
      "      Stayed       0.79      1.00      0.88      2379\n",
      "     Churned       0.00      0.00      0.00       621\n",
      "\n",
      "    accuracy                           0.79      3000\n",
      "   macro avg       0.40      0.50      0.44      3000\n",
      "weighted avg       0.63      0.79      0.70      3000\n",
      "\n",
      "-----------------------------------------------------------------\n"
     ]
    }
   ],
   "source": [
    "targetNames=['Stayed', 'Churned']\n",
    "print('For LR')\n",
    "print(classification_report(y_test, lr_ypred, target_names=targetNames))\n",
    "print('-----------------------------------------------------------------')\n",
    "print('For Naive Bayes')\n",
    "print(classification_report(y_test, nb_ypred, target_names=targetNames))\n",
    "print('-----------------------------------------------------------------')\n",
    "print('For SGD')\n",
    "print(classification_report(y_test, sgd_ypred, target_names=targetNames))\n",
    "print('-----------------------------------------------------------------')\n",
    "print('For KNN')\n",
    "print(classification_report(y_test, knn_ypred, target_names=targetNames))\n",
    "print('-----------------------------------------------------------------')\n",
    "print('For Decision Tree')\n",
    "print(classification_report(y_test, dtree_ypred, target_names=targetNames))\n",
    "print('-----------------------------------------------------------------')\n",
    "print('For Random Forest')\n",
    "print(classification_report(y_test, rfm_ypred, target_names=targetNames))\n",
    "print('-----------------------------------------------------------------')\n",
    "print('For SVM')\n",
    "print(classification_report(y_test, svm_ypred, target_names=targetNames))\n",
    "print('-----------------------------------------------------------------')"
   ]
  },
  {
   "cell_type": "markdown",
   "id": "13f220d4",
   "metadata": {},
   "source": [
    "#### ii. Confusion Matrix"
   ]
  },
  {
   "cell_type": "code",
   "execution_count": 21,
   "id": "93f2faa8",
   "metadata": {},
   "outputs": [
    {
     "name": "stdout",
     "output_type": "stream",
     "text": [
      "For Logistic Regression\n",
      "Confusion Matrix: \n",
      "[[2302   77]\n",
      " [ 514  107]]\n",
      "Accuracy Score:  0.803\n",
      "Precision Score:  0.5815217391304348\n",
      "Recall Score:  0.1723027375201288\n",
      "F1 Score:  0.26583850931677017\n"
     ]
    }
   ],
   "source": [
    "cm_lr = confusion_matrix(y_test, lr_ypred)\n",
    "print('For Logistic Regression')\n",
    "print('Confusion Matrix: ')\n",
    "print(cm_lr)\n",
    "acc_lr = accuracy_score(y_test, lr_ypred)\n",
    "pre_lr = precision_score(y_test, lr_ypred)\n",
    "rec_lr = recall_score(y_test, lr_ypred)\n",
    "f1_lr = f1_score(y_test, lr_ypred)\n",
    "print('Accuracy Score: ',acc_lr)\n",
    "print('Precision Score: ',pre_lr)\n",
    "print('Recall Score: ',rec_lr)\n",
    "print('F1 Score: ',f1_lr)"
   ]
  },
  {
   "cell_type": "code",
   "execution_count": 22,
   "id": "dd17bf4e",
   "metadata": {},
   "outputs": [
    {
     "name": "stdout",
     "output_type": "stream",
     "text": [
      "For Naive Bayes\n",
      "Confusion Matrix: \n",
      "[[2305   74]\n",
      " [ 462  159]]\n",
      "Accuracy Score:  0.8213333333333334\n",
      "Precision Score:  0.6824034334763949\n",
      "Recall Score:  0.2560386473429952\n",
      "F1 Score:  0.3723653395784544\n"
     ]
    }
   ],
   "source": [
    "cm_nb = confusion_matrix(y_test, nb_ypred)\n",
    "print('For Naive Bayes')\n",
    "print('Confusion Matrix: ')\n",
    "print(cm_nb)\n",
    "acc_nb = accuracy_score(y_test, nb_ypred)\n",
    "pre_nb = precision_score(y_test, nb_ypred)\n",
    "rec_nb = recall_score(y_test, nb_ypred)\n",
    "f1_nb = f1_score(y_test, nb_ypred)\n",
    "print('Accuracy Score: ',acc_nb)\n",
    "print('Precision Score: ',pre_nb)\n",
    "print('Recall Score: ',rec_nb)\n",
    "print('F1 Score: ',f1_nb)"
   ]
  },
  {
   "cell_type": "code",
   "execution_count": 23,
   "id": "d1f3bfca",
   "metadata": {},
   "outputs": [
    {
     "name": "stdout",
     "output_type": "stream",
     "text": [
      "For Stochastic Gradient Descent\n",
      "Confusion Matrix: \n",
      "[[2235  144]\n",
      " [ 516  105]]\n",
      "Accuracy Score:  0.78\n",
      "Precision Score:  0.42168674698795183\n",
      "Recall Score:  0.16908212560386474\n",
      "F1 Score:  0.2413793103448276\n"
     ]
    }
   ],
   "source": [
    "cm_sgd = confusion_matrix(y_test, sgd_ypred)\n",
    "print('For Stochastic Gradient Descent')\n",
    "print('Confusion Matrix: ')\n",
    "print(cm_sgd)\n",
    "acc_sgd = accuracy_score(y_test, sgd_ypred)\n",
    "pre_sgd = precision_score(y_test, sgd_ypred)\n",
    "rec_sgd = recall_score(y_test, sgd_ypred)\n",
    "f1_sgd = f1_score(y_test, sgd_ypred)\n",
    "print('Accuracy Score: ',acc_sgd)\n",
    "print('Precision Score: ',pre_sgd)\n",
    "print('Recall Score: ',rec_sgd)\n",
    "print('F1 Score: ',f1_sgd)"
   ]
  },
  {
   "cell_type": "code",
   "execution_count": 24,
   "id": "74a543ab",
   "metadata": {},
   "outputs": [
    {
     "name": "stdout",
     "output_type": "stream",
     "text": [
      "For KNN\n",
      "Confusion Matrix: \n",
      "[[2196  183]\n",
      " [ 340  281]]\n",
      "Accuracy Score:  0.8256666666666667\n",
      "Precision Score:  0.6056034482758621\n",
      "Recall Score:  0.4524959742351047\n",
      "F1 Score:  0.5179723502304148\n"
     ]
    }
   ],
   "source": [
    "cm_knn = confusion_matrix(y_test, knn_ypred)\n",
    "print('For KNN')\n",
    "print('Confusion Matrix: ')\n",
    "print(cm_knn)\n",
    "acc_knn = accuracy_score(y_test, knn_ypred)\n",
    "pre_knn = precision_score(y_test, knn_ypred)\n",
    "rec_knn = recall_score(y_test, knn_ypred)\n",
    "f1_knn = f1_score(y_test, knn_ypred)\n",
    "print('Accuracy Score: ',acc_knn)\n",
    "print('Precision Score: ',pre_knn)\n",
    "print('Recall Score: ',rec_knn)\n",
    "print('F1 Score: ',f1_knn)"
   ]
  },
  {
   "cell_type": "code",
   "execution_count": 25,
   "id": "c8ae667b",
   "metadata": {},
   "outputs": [
    {
     "name": "stdout",
     "output_type": "stream",
     "text": [
      "For Decision Tree\n",
      "Confusion Matrix: \n",
      "[[2278  101]\n",
      " [ 370  251]]\n",
      "Accuracy Score:  0.843\n",
      "Precision Score:  0.7130681818181818\n",
      "Recall Score:  0.40418679549114334\n",
      "F1 Score:  0.5159301130524152\n"
     ]
    }
   ],
   "source": [
    "cm_dtree = confusion_matrix(y_test, dtree_ypred)\n",
    "print('For Decision Tree')\n",
    "print('Confusion Matrix: ')\n",
    "print(cm_dtree)\n",
    "acc_dtree = accuracy_score(y_test, dtree_ypred)\n",
    "pre_dtree = precision_score(y_test, dtree_ypred)\n",
    "rec_dtree = recall_score(y_test, dtree_ypred)\n",
    "f1_dtree = f1_score(y_test, dtree_ypred)\n",
    "print('Accuracy Score: ',acc_dtree)\n",
    "print('Precision Score: ',pre_dtree)\n",
    "print('Recall Score: ',rec_dtree)\n",
    "print('F1 Score: ',f1_dtree)"
   ]
  },
  {
   "cell_type": "code",
   "execution_count": 26,
   "id": "68100774",
   "metadata": {},
   "outputs": [
    {
     "name": "stdout",
     "output_type": "stream",
     "text": [
      "For Random Forest\n",
      "Confusion Matrix: \n",
      "[[2264  115]\n",
      " [ 294  327]]\n",
      "Accuracy Score:  0.8636666666666667\n",
      "Precision Score:  0.7398190045248869\n",
      "Recall Score:  0.5265700483091788\n",
      "F1 Score:  0.6152398871119473\n"
     ]
    }
   ],
   "source": [
    "cm_rfm = confusion_matrix(y_test, rfm_ypred)\n",
    "print('For Random Forest')\n",
    "print('Confusion Matrix: ')\n",
    "print(cm_rfm)\n",
    "acc_rfm = accuracy_score(y_test, rfm_ypred)\n",
    "pre_rfm = precision_score(y_test, rfm_ypred)\n",
    "rec_rfm = recall_score(y_test, rfm_ypred)\n",
    "f1_rfm = f1_score(y_test, rfm_ypred)\n",
    "print('Accuracy Score: ',acc_rfm)\n",
    "print('Precision Score: ',pre_rfm)\n",
    "print('Recall Score: ',rec_rfm)\n",
    "print('F1 Score: ',f1_rfm)"
   ]
  },
  {
   "cell_type": "code",
   "execution_count": 27,
   "id": "aa30543b",
   "metadata": {},
   "outputs": [],
   "source": [
    "accuracies= {\"LR\": lr_acc, \n",
    "             \"Naive\": nb_acc, \n",
    "             \"SGD\": sgd_acc, \n",
    "             \"kNN\": knn_acc, \n",
    "             \"DT\": dtree_acc, \n",
    "             \"RFM\": rfm_acc, \n",
    "             }\n",
    "\n",
    "precisions = {\"LR\": pre_lr,  \n",
    "             \"Naive\": pre_nb, \n",
    "             \"SGD\": pre_sgd,\n",
    "             \"kNN\": pre_knn, \n",
    "             \"DT\": pre_dtree,\n",
    "            \"RFM\": pre_rfm,\n",
    "             }\n",
    "\n",
    "recalls = {\"LR\": rec_lr,  \n",
    "             \"Naive\": rec_nb, \n",
    "             \"SGD\": rec_sgd,\n",
    "             \"kNN\": rec_knn, \n",
    "             \"DT\": rec_dtree,\n",
    "            \"RFM\": rec_rfm,\n",
    "             }\n",
    "\n",
    "f1s = {\"LR\": f1_lr,  \n",
    "        \"Naive\": f1_nb, \n",
    "        \"SGD\": f1_sgd,\n",
    "        \"kNN\": f1_knn, \n",
    "        \"DT\": f1_dtree,\n",
    "      \"RFM\": f1_rfm,\n",
    "        }"
   ]
  },
  {
   "cell_type": "markdown",
   "id": "bc734162",
   "metadata": {},
   "source": [
    "#### iii. Classification Evaluation Metrics"
   ]
  },
  {
   "cell_type": "code",
   "execution_count": 28,
   "id": "6f8ecfe6",
   "metadata": {},
   "outputs": [
    {
     "data": {
      "image/png": "[encoded data removed]",
      "text/plain": [
       "<Figure size 720x360 with 1 Axes>"
      ]
     },
     "metadata": {
      "needs_background": "light"
     },
     "output_type": "display_data"
    }
   ],
   "source": [
    "lists = sorted(accuracies.items(), key=lambda x: x[1]*100)\n",
    "plt.figure(figsize=(10,5))\n",
    "plt.bar(*zip(*lists), color=\"coral\")\n",
    "plt.title('Classification Models vs Accuracy')\n",
    "plt.xlabel('Classification Models')\n",
    "plt.ylabel('Accuracy')\n",
    "plt.show()"
   ]
  },
  {
   "cell_type": "code",
   "execution_count": 29,
   "id": "4e917fde",
   "metadata": {},
   "outputs": [
    {
     "data": {
      "image/png": "[encoded data removed]",
      "text/plain": [
       "<Figure size 720x360 with 1 Axes>"
      ]
     },
     "metadata": {
      "needs_background": "light"
     },
     "output_type": "display_data"
    }
   ],
   "source": [
    "lists = sorted(precisions.items(), key=lambda x: x[1]*100)\n",
    "plt.figure(figsize=(10,5))\n",
    "plt.bar(*zip(*lists), color=\"limegreen\")\n",
    "plt.title('Classification Models vs Precision')\n",
    "plt.xlabel('Classification Models')\n",
    "plt.ylabel('Precision')\n",
    "plt.show()"
   ]
  },
  {
   "cell_type": "code",
   "execution_count": 30,
   "id": "2cf42419",
   "metadata": {},
   "outputs": [
    {
     "data": {
      "image/png": "[encoded data removed]",
      "text/plain": [
       "<Figure size 720x360 with 1 Axes>"
      ]
     },
     "metadata": {
      "needs_background": "light"
     },
     "output_type": "display_data"
    }
   ],
   "source": [
    "lists = sorted(recalls.items(), key=lambda x: x[1]*100)\n",
    "plt.figure(figsize=(10,5))\n",
    "plt.bar(*zip(*lists), color=\"dodgerblue\")\n",
    "plt.ylim(0,1)\n",
    "plt.title('Classification Models vs Recall')\n",
    "plt.xlabel('Classification Models')\n",
    "plt.ylabel('Recall')\n",
    "plt.show()"
   ]
  },
  {
   "cell_type": "code",
   "execution_count": 31,
   "id": "63010eea",
   "metadata": {},
   "outputs": [
    {
     "data": {
      "image/png": "[encoded data removed]",
      "text/plain": [
       "<Figure size 720x360 with 1 Axes>"
      ]
     },
     "metadata": {
      "needs_background": "light"
     },
     "output_type": "display_data"
    }
   ],
   "source": [
    "lists = sorted(f1s.items(), key=lambda x: x[1]*100)\n",
    "plt.figure(figsize=(10,5))\n",
    "plt.bar(*zip(*lists), color=\"darkmagenta\")\n",
    "plt.title('Classification Models vs F1')\n",
    "plt.xlabel('Classification Models')\n",
    "plt.ylabel('F1')\n",
    "plt.show()"
   ]
  },
  {
   "cell_type": "markdown",
   "id": "1e2b44d5",
   "metadata": {},
   "source": [
    "## 7. Apply Deep Learning Models"
   ]
  },
  {
   "cell_type": "markdown",
   "id": "b27dfe93",
   "metadata": {},
   "source": [
    "### Artificial Neural Networks"
   ]
  },
  {
   "cell_type": "code",
   "execution_count": 32,
   "id": "f62dd1ef",
   "metadata": {},
   "outputs": [
    {
     "name": "stdout",
     "output_type": "stream",
     "text": [
      "Epoch 1/100\n",
      "219/219 [==============================] - 3s 3ms/step - loss: 0.5343 - accuracy: 0.7974\n",
      "Epoch 2/100\n",
      "219/219 [==============================] - 1s 3ms/step - loss: 0.4792 - accuracy: 0.7977\n",
      "Epoch 3/100\n",
      "219/219 [==============================] - 1s 3ms/step - loss: 0.4474 - accuracy: 0.7977\n",
      "Epoch 4/100\n",
      "219/219 [==============================] - 1s 3ms/step - loss: 0.4190 - accuracy: 0.8006\n",
      "Epoch 5/100\n",
      "219/219 [==============================] - 1s 2ms/step - loss: 0.4032 - accuracy: 0.8223\n",
      "Epoch 6/100\n",
      "219/219 [==============================] - 1s 2ms/step - loss: 0.3944 - accuracy: 0.8291\n",
      "Epoch 7/100\n",
      "219/219 [==============================] - 0s 2ms/step - loss: 0.3891 - accuracy: 0.8339\n",
      "Epoch 8/100\n",
      "219/219 [==============================] - 1s 3ms/step - loss: 0.3828 - accuracy: 0.8379\n",
      "Epoch 9/100\n",
      "219/219 [==============================] - 1s 3ms/step - loss: 0.3776 - accuracy: 0.8427\n",
      "Epoch 10/100\n",
      "219/219 [==============================] - 1s 3ms/step - loss: 0.3716 - accuracy: 0.8464\n",
      "Epoch 11/100\n",
      "219/219 [==============================] - 1s 3ms/step - loss: 0.3676 - accuracy: 0.8476\n",
      "Epoch 12/100\n",
      "219/219 [==============================] - 1s 3ms/step - loss: 0.3638 - accuracy: 0.8516\n",
      "Epoch 13/100\n",
      "219/219 [==============================] - 1s 3ms/step - loss: 0.3610 - accuracy: 0.8556\n",
      "Epoch 14/100\n",
      "219/219 [==============================] - 1s 3ms/step - loss: 0.3579 - accuracy: 0.8557\n",
      "Epoch 15/100\n",
      "219/219 [==============================] - 1s 3ms/step - loss: 0.3564 - accuracy: 0.8559\n",
      "Epoch 16/100\n",
      "219/219 [==============================] - 1s 3ms/step - loss: 0.3552 - accuracy: 0.8581\n",
      "Epoch 17/100\n",
      "219/219 [==============================] - 1s 3ms/step - loss: 0.3546 - accuracy: 0.8577\n",
      "Epoch 18/100\n",
      "219/219 [==============================] - 1s 3ms/step - loss: 0.3534 - accuracy: 0.8579\n",
      "Epoch 19/100\n",
      "219/219 [==============================] - 1s 3ms/step - loss: 0.3536 - accuracy: 0.8594\n",
      "Epoch 20/100\n",
      "219/219 [==============================] - 1s 3ms/step - loss: 0.3515 - accuracy: 0.8566\n",
      "Epoch 21/100\n",
      "219/219 [==============================] - 1s 3ms/step - loss: 0.3499 - accuracy: 0.8593\n",
      "Epoch 22/100\n",
      "219/219 [==============================] - 1s 3ms/step - loss: 0.3495 - accuracy: 0.8597\n",
      "Epoch 23/100\n",
      "219/219 [==============================] - 1s 3ms/step - loss: 0.3498 - accuracy: 0.8594\n",
      "Epoch 24/100\n",
      "219/219 [==============================] - 1s 3ms/step - loss: 0.3480 - accuracy: 0.8599\n",
      "Epoch 25/100\n",
      "219/219 [==============================] - 1s 3ms/step - loss: 0.3470 - accuracy: 0.8597\n",
      "Epoch 26/100\n",
      "219/219 [==============================] - 1s 3ms/step - loss: 0.3450 - accuracy: 0.8620\n",
      "Epoch 27/100\n",
      "219/219 [==============================] - 1s 3ms/step - loss: 0.3464 - accuracy: 0.8604\n",
      "Epoch 28/100\n",
      "219/219 [==============================] - 1s 3ms/step - loss: 0.3455 - accuracy: 0.8617\n",
      "Epoch 29/100\n",
      "219/219 [==============================] - 1s 3ms/step - loss: 0.3445 - accuracy: 0.8631\n",
      "Epoch 30/100\n",
      "219/219 [==============================] - 1s 3ms/step - loss: 0.3434 - accuracy: 0.8616\n",
      "Epoch 31/100\n",
      "219/219 [==============================] - 1s 3ms/step - loss: 0.3426 - accuracy: 0.8624\n",
      "Epoch 32/100\n",
      "219/219 [==============================] - 1s 3ms/step - loss: 0.3418 - accuracy: 0.8623\n",
      "Epoch 33/100\n",
      "219/219 [==============================] - 1s 3ms/step - loss: 0.3411 - accuracy: 0.8630\n",
      "Epoch 34/100\n",
      "219/219 [==============================] - 1s 3ms/step - loss: 0.3419 - accuracy: 0.8657\n",
      "Epoch 35/100\n",
      "219/219 [==============================] - 1s 3ms/step - loss: 0.3411 - accuracy: 0.8623\n",
      "Epoch 36/100\n",
      "219/219 [==============================] - 1s 2ms/step - loss: 0.3398 - accuracy: 0.8634\n",
      "Epoch 37/100\n",
      "219/219 [==============================] - 1s 3ms/step - loss: 0.3396 - accuracy: 0.8650\n",
      "Epoch 38/100\n",
      "219/219 [==============================] - 1s 3ms/step - loss: 0.3399 - accuracy: 0.8639\n",
      "Epoch 39/100\n",
      "219/219 [==============================] - 1s 3ms/step - loss: 0.3384 - accuracy: 0.8641\n",
      "Epoch 40/100\n",
      "219/219 [==============================] - 1s 3ms/step - loss: 0.3387 - accuracy: 0.8644\n",
      "Epoch 41/100\n",
      "219/219 [==============================] - 1s 3ms/step - loss: 0.3385 - accuracy: 0.8666\n",
      "Epoch 42/100\n",
      "219/219 [==============================] - 1s 3ms/step - loss: 0.3379 - accuracy: 0.8670\n",
      "Epoch 43/100\n",
      "219/219 [==============================] - 1s 3ms/step - loss: 0.3376 - accuracy: 0.8644\n",
      "Epoch 44/100\n",
      "219/219 [==============================] - 1s 3ms/step - loss: 0.3363 - accuracy: 0.8669\n",
      "Epoch 45/100\n",
      "219/219 [==============================] - 1s 3ms/step - loss: 0.3379 - accuracy: 0.8654\n",
      "Epoch 46/100\n",
      "219/219 [==============================] - 1s 3ms/step - loss: 0.3380 - accuracy: 0.8641\n",
      "Epoch 47/100\n",
      "219/219 [==============================] - 1s 2ms/step - loss: 0.3373 - accuracy: 0.8656\n",
      "Epoch 48/100\n",
      "219/219 [==============================] - 1s 3ms/step - loss: 0.3367 - accuracy: 0.8667\n",
      "Epoch 49/100\n",
      "219/219 [==============================] - 1s 3ms/step - loss: 0.3370 - accuracy: 0.8643\n",
      "Epoch 50/100\n",
      "219/219 [==============================] - 1s 3ms/step - loss: 0.3359 - accuracy: 0.8647\n",
      "Epoch 51/100\n",
      "219/219 [==============================] - 1s 3ms/step - loss: 0.3361 - accuracy: 0.8643\n",
      "Epoch 52/100\n",
      "219/219 [==============================] - 1s 3ms/step - loss: 0.3358 - accuracy: 0.8647\n",
      "Epoch 53/100\n",
      "219/219 [==============================] - 1s 3ms/step - loss: 0.3357 - accuracy: 0.8643\n",
      "Epoch 54/100\n",
      "219/219 [==============================] - 1s 3ms/step - loss: 0.3367 - accuracy: 0.8644\n",
      "Epoch 55/100\n",
      "219/219 [==============================] - 1s 3ms/step - loss: 0.3359 - accuracy: 0.8659\n",
      "Epoch 56/100\n",
      "219/219 [==============================] - 1s 3ms/step - loss: 0.3369 - accuracy: 0.8646\n",
      "Epoch 57/100\n",
      "219/219 [==============================] - 1s 3ms/step - loss: 0.3360 - accuracy: 0.8671\n",
      "Epoch 58/100\n",
      "219/219 [==============================] - 1s 3ms/step - loss: 0.3358 - accuracy: 0.8637\n",
      "Epoch 59/100\n",
      "219/219 [==============================] - 1s 3ms/step - loss: 0.3354 - accuracy: 0.8670\n",
      "Epoch 60/100\n",
      "219/219 [==============================] - 1s 3ms/step - loss: 0.3363 - accuracy: 0.8661\n",
      "Epoch 61/100\n",
      "219/219 [==============================] - 1s 3ms/step - loss: 0.3354 - accuracy: 0.8661\n",
      "Epoch 62/100\n",
      "219/219 [==============================] - 1s 3ms/step - loss: 0.3360 - accuracy: 0.8663\n",
      "Epoch 63/100\n",
      "219/219 [==============================] - 1s 3ms/step - loss: 0.3351 - accuracy: 0.8676\n",
      "Epoch 64/100\n",
      "219/219 [==============================] - 1s 3ms/step - loss: 0.3345 - accuracy: 0.8660\n",
      "Epoch 65/100\n",
      "219/219 [==============================] - 1s 3ms/step - loss: 0.3339 - accuracy: 0.8661\n",
      "Epoch 66/100\n",
      "219/219 [==============================] - 1s 3ms/step - loss: 0.3341 - accuracy: 0.8669\n",
      "Epoch 67/100\n",
      "219/219 [==============================] - 1s 3ms/step - loss: 0.3348 - accuracy: 0.8667\n",
      "Epoch 68/100\n",
      "219/219 [==============================] - 1s 3ms/step - loss: 0.3339 - accuracy: 0.8659\n",
      "Epoch 69/100\n",
      "219/219 [==============================] - 1s 3ms/step - loss: 0.3337 - accuracy: 0.8654\n",
      "Epoch 70/100\n",
      "219/219 [==============================] - 1s 3ms/step - loss: 0.3338 - accuracy: 0.8671\n",
      "Epoch 71/100\n",
      "219/219 [==============================] - 1s 3ms/step - loss: 0.3343 - accuracy: 0.8683\n",
      "Epoch 72/100\n",
      "219/219 [==============================] - 1s 3ms/step - loss: 0.3337 - accuracy: 0.8690\n",
      "Epoch 73/100\n",
      "219/219 [==============================] - 1s 3ms/step - loss: 0.3337 - accuracy: 0.8667\n",
      "Epoch 74/100\n",
      "219/219 [==============================] - 1s 3ms/step - loss: 0.3336 - accuracy: 0.8673\n",
      "Epoch 75/100\n",
      "219/219 [==============================] - 1s 3ms/step - loss: 0.3338 - accuracy: 0.8677\n",
      "Epoch 76/100\n",
      "219/219 [==============================] - 1s 3ms/step - loss: 0.3339 - accuracy: 0.8663\n",
      "Epoch 77/100\n",
      "219/219 [==============================] - 1s 3ms/step - loss: 0.3336 - accuracy: 0.8687\n",
      "Epoch 78/100\n",
      "219/219 [==============================] - 1s 3ms/step - loss: 0.3330 - accuracy: 0.8674\n",
      "Epoch 79/100\n",
      "219/219 [==============================] - 1s 3ms/step - loss: 0.3332 - accuracy: 0.8663\n",
      "Epoch 80/100\n",
      "219/219 [==============================] - 1s 3ms/step - loss: 0.3332 - accuracy: 0.8667\n",
      "Epoch 81/100\n",
      "219/219 [==============================] - 1s 3ms/step - loss: 0.3331 - accuracy: 0.8679\n",
      "Epoch 82/100\n",
      "219/219 [==============================] - 1s 3ms/step - loss: 0.3332 - accuracy: 0.8674\n",
      "Epoch 83/100\n",
      "219/219 [==============================] - 1s 3ms/step - loss: 0.3324 - accuracy: 0.8667\n",
      "Epoch 84/100\n",
      "219/219 [==============================] - 1s 3ms/step - loss: 0.3325 - accuracy: 0.8684\n",
      "Epoch 85/100\n",
      "219/219 [==============================] - 1s 3ms/step - loss: 0.3321 - accuracy: 0.8684\n",
      "Epoch 86/100\n",
      "219/219 [==============================] - 1s 3ms/step - loss: 0.3317 - accuracy: 0.8663\n",
      "Epoch 87/100\n",
      "219/219 [==============================] - 1s 3ms/step - loss: 0.3309 - accuracy: 0.8686\n",
      "Epoch 88/100\n",
      "219/219 [==============================] - 1s 3ms/step - loss: 0.3318 - accuracy: 0.8687\n",
      "Epoch 89/100\n",
      "219/219 [==============================] - 1s 3ms/step - loss: 0.3312 - accuracy: 0.8687\n",
      "Epoch 90/100\n",
      "219/219 [==============================] - 1s 3ms/step - loss: 0.3313 - accuracy: 0.8674\n",
      "Epoch 91/100\n",
      "219/219 [==============================] - 1s 3ms/step - loss: 0.3300 - accuracy: 0.8691\n",
      "Epoch 92/100\n",
      "219/219 [==============================] - 1s 3ms/step - loss: 0.3314 - accuracy: 0.8671\n",
      "Epoch 93/100\n",
      "219/219 [==============================] - 1s 3ms/step - loss: 0.3317 - accuracy: 0.8686\n",
      "Epoch 94/100\n",
      "219/219 [==============================] - 1s 3ms/step - loss: 0.3316 - accuracy: 0.8661\n",
      "Epoch 95/100\n",
      "219/219 [==============================] - 1s 3ms/step - loss: 0.3302 - accuracy: 0.8696\n",
      "Epoch 96/100\n",
      "219/219 [==============================] - 1s 3ms/step - loss: 0.3314 - accuracy: 0.8690\n",
      "Epoch 97/100\n",
      "219/219 [==============================] - 1s 3ms/step - loss: 0.3316 - accuracy: 0.8680\n",
      "Epoch 98/100\n",
      "219/219 [==============================] - 1s 3ms/step - loss: 0.3308 - accuracy: 0.8701\n",
      "Epoch 99/100\n",
      "219/219 [==============================] - 1s 3ms/step - loss: 0.3304 - accuracy: 0.8690\n",
      "Epoch 100/100\n",
      "219/219 [==============================] - 1s 3ms/step - loss: 0.3294 - accuracy: 0.8681\n",
      "219/219 [==============================] - 1s 2ms/step - loss: 0.3322 - accuracy: 0.8674\n",
      "ANN Model Accuracy: \n",
      "86.74286007881165 %\n"
     ]
    }
   ],
   "source": [
    "ann_model = Sequential()\n",
    "ann_model.add(Dense(units=8,activation='relu'))\n",
    "ann_model.add(Dense(units=8,activation='relu'))\n",
    "ann_model.add(Dense(units=8,activation='relu'))\n",
    "ann_model.add(Dense(units=8,activation='relu'))\n",
    "ann_model.add(Dense(units=8,activation='relu'))\n",
    "ann_model.add(Dense(units=8,activation='relu'))\n",
    "ann_model.add(Dense(units=8,activation='relu'))\n",
    "ann_model.add(Dense(units=8,activation='relu'))\n",
    "ann_model.add(Dense(units=1,activation='sigmoid'))\n",
    "ann_model.compile(optimizer='rmsprop',loss='binary_crossentropy',metrics=['accuracy'])\n",
    "ann_model.fit(x_train,y_train,batch_size=32,epochs=100)\n",
    "acc= ann_model.evaluate(x_train, y_train)\n",
    "print(\"ANN Model Accuracy: \")\n",
    "ann_acc=acc[1]\n",
    "print(ann_acc*100,\"%\")"
   ]
  },
  {
   "cell_type": "markdown",
   "id": "a67063ae",
   "metadata": {},
   "source": [
    "#### Additional reshaping for CNN and LSTM"
   ]
  },
  {
   "cell_type": "code",
   "execution_count": 33,
   "id": "af26fbcc",
   "metadata": {},
   "outputs": [],
   "source": [
    "x_train = np.random.uniform(0,1, (7000,10))\n",
    "y_train = np.random.randint(0,2, 7000)\n",
    "\n",
    "x_train = np.expand_dims(x_train, axis=1)\n",
    "x_test = np.expand_dims(x_test, axis=1)"
   ]
  },
  {
   "cell_type": "markdown",
   "id": "1619831e",
   "metadata": {},
   "source": [
    "### Convolutional Neural Networks"
   ]
  },
  {
   "cell_type": "code",
   "execution_count": 34,
   "id": "6eb94ccd",
   "metadata": {},
   "outputs": [
    {
     "name": "stdout",
     "output_type": "stream",
     "text": [
      "Epoch 1/100\n",
      "219/219 [==============================] - 2s 4ms/step - loss: 0.6946 - accuracy: 0.5009\n",
      "Epoch 2/100\n",
      "219/219 [==============================] - 1s 4ms/step - loss: 0.6932 - accuracy: 0.5079\n",
      "Epoch 3/100\n",
      "219/219 [==============================] - 1s 4ms/step - loss: 0.6939 - accuracy: 0.5044\n",
      "Epoch 4/100\n",
      "219/219 [==============================] - 1s 4ms/step - loss: 0.6927 - accuracy: 0.5167\n",
      "Epoch 5/100\n",
      "219/219 [==============================] - 1s 4ms/step - loss: 0.6930 - accuracy: 0.5186\n",
      "Epoch 6/100\n",
      "219/219 [==============================] - 1s 4ms/step - loss: 0.6935 - accuracy: 0.5154\n",
      "Epoch 7/100\n",
      "219/219 [==============================] - 1s 4ms/step - loss: 0.6925 - accuracy: 0.5159\n",
      "Epoch 8/100\n",
      "219/219 [==============================] - 1s 4ms/step - loss: 0.6928 - accuracy: 0.5136\n",
      "Epoch 9/100\n",
      "219/219 [==============================] - 1s 4ms/step - loss: 0.6923 - accuracy: 0.5160\n",
      "Epoch 10/100\n",
      "219/219 [==============================] - 1s 4ms/step - loss: 0.6923 - accuracy: 0.5127\n",
      "Epoch 11/100\n",
      "219/219 [==============================] - 1s 4ms/step - loss: 0.6924 - accuracy: 0.5094\n",
      "Epoch 12/100\n",
      "219/219 [==============================] - 1s 4ms/step - loss: 0.6923 - accuracy: 0.5121\n",
      "Epoch 13/100\n",
      "219/219 [==============================] - 1s 4ms/step - loss: 0.6919 - accuracy: 0.5211\n",
      "Epoch 14/100\n",
      "219/219 [==============================] - 1s 4ms/step - loss: 0.6923 - accuracy: 0.5239\n",
      "Epoch 15/100\n",
      "219/219 [==============================] - 1s 4ms/step - loss: 0.6925 - accuracy: 0.5084\n",
      "Epoch 16/100\n",
      "219/219 [==============================] - 1s 4ms/step - loss: 0.6926 - accuracy: 0.5184\n",
      "Epoch 17/100\n",
      "219/219 [==============================] - 1s 4ms/step - loss: 0.6919 - accuracy: 0.5229\n",
      "Epoch 18/100\n",
      "219/219 [==============================] - 1s 4ms/step - loss: 0.6924 - accuracy: 0.5206\n",
      "Epoch 19/100\n",
      "219/219 [==============================] - 1s 4ms/step - loss: 0.6920 - accuracy: 0.5213\n",
      "Epoch 20/100\n",
      "219/219 [==============================] - 1s 4ms/step - loss: 0.6919 - accuracy: 0.5196\n",
      "Epoch 21/100\n",
      "219/219 [==============================] - 1s 4ms/step - loss: 0.6920 - accuracy: 0.5176\n",
      "Epoch 22/100\n",
      "219/219 [==============================] - 1s 4ms/step - loss: 0.6920 - accuracy: 0.5186\n",
      "Epoch 23/100\n",
      "219/219 [==============================] - 1s 4ms/step - loss: 0.6915 - accuracy: 0.5179\n",
      "Epoch 24/100\n",
      "219/219 [==============================] - 1s 4ms/step - loss: 0.6924 - accuracy: 0.5146\n",
      "Epoch 25/100\n",
      "219/219 [==============================] - 1s 4ms/step - loss: 0.6910 - accuracy: 0.5259\n",
      "Epoch 26/100\n",
      "219/219 [==============================] - 1s 4ms/step - loss: 0.6914 - accuracy: 0.5166\n",
      "Epoch 27/100\n",
      "219/219 [==============================] - 1s 4ms/step - loss: 0.6910 - accuracy: 0.5287\n",
      "Epoch 28/100\n",
      "219/219 [==============================] - 1s 4ms/step - loss: 0.6915 - accuracy: 0.5173\n",
      "Epoch 29/100\n",
      "219/219 [==============================] - 1s 4ms/step - loss: 0.6919 - accuracy: 0.5149\n",
      "Epoch 30/100\n",
      "219/219 [==============================] - 1s 4ms/step - loss: 0.6913 - accuracy: 0.5241\n",
      "Epoch 31/100\n",
      "219/219 [==============================] - 1s 4ms/step - loss: 0.6909 - accuracy: 0.5239\n",
      "Epoch 32/100\n",
      "219/219 [==============================] - 1s 4ms/step - loss: 0.6910 - accuracy: 0.5206\n",
      "Epoch 33/100\n",
      "219/219 [==============================] - 1s 4ms/step - loss: 0.6903 - accuracy: 0.5269\n",
      "Epoch 34/100\n",
      "219/219 [==============================] - 1s 4ms/step - loss: 0.6913 - accuracy: 0.5187\n",
      "Epoch 35/100\n",
      "219/219 [==============================] - 1s 4ms/step - loss: 0.6911 - accuracy: 0.5251\n",
      "Epoch 36/100\n",
      "219/219 [==============================] - 1s 4ms/step - loss: 0.6907 - accuracy: 0.5253\n",
      "Epoch 37/100\n",
      "219/219 [==============================] - 1s 4ms/step - loss: 0.6909 - accuracy: 0.5270\n",
      "Epoch 38/100\n",
      "219/219 [==============================] - 1s 4ms/step - loss: 0.6911 - accuracy: 0.5257\n",
      "Epoch 39/100\n",
      "219/219 [==============================] - 1s 4ms/step - loss: 0.6909 - accuracy: 0.5280\n",
      "Epoch 40/100\n",
      "219/219 [==============================] - 1s 4ms/step - loss: 0.6910 - accuracy: 0.5221\n",
      "Epoch 41/100\n",
      "219/219 [==============================] - 1s 4ms/step - loss: 0.6914 - accuracy: 0.5221\n",
      "Epoch 42/100\n",
      "219/219 [==============================] - 1s 4ms/step - loss: 0.6907 - accuracy: 0.5277\n",
      "Epoch 43/100\n",
      "219/219 [==============================] - 1s 4ms/step - loss: 0.6904 - accuracy: 0.5249\n",
      "Epoch 44/100\n",
      "219/219 [==============================] - 1s 4ms/step - loss: 0.6900 - accuracy: 0.5329\n",
      "Epoch 45/100\n",
      "219/219 [==============================] - 1s 4ms/step - loss: 0.6908 - accuracy: 0.5271\n",
      "Epoch 46/100\n",
      "219/219 [==============================] - 1s 4ms/step - loss: 0.6904 - accuracy: 0.5271\n",
      "Epoch 47/100\n",
      "219/219 [==============================] - 1s 4ms/step - loss: 0.6894 - accuracy: 0.5306\n",
      "Epoch 48/100\n",
      "219/219 [==============================] - 1s 4ms/step - loss: 0.6900 - accuracy: 0.5261\n",
      "Epoch 49/100\n",
      "219/219 [==============================] - 1s 4ms/step - loss: 0.6892 - accuracy: 0.5363\n",
      "Epoch 50/100\n",
      "219/219 [==============================] - 1s 4ms/step - loss: 0.6895 - accuracy: 0.5281\n",
      "Epoch 51/100\n",
      "219/219 [==============================] - 1s 4ms/step - loss: 0.6910 - accuracy: 0.5257\n",
      "Epoch 52/100\n",
      "219/219 [==============================] - 1s 4ms/step - loss: 0.6898 - accuracy: 0.5260\n",
      "Epoch 53/100\n",
      "219/219 [==============================] - 1s 4ms/step - loss: 0.6889 - accuracy: 0.5331\n",
      "Epoch 54/100\n",
      "219/219 [==============================] - 1s 4ms/step - loss: 0.6898 - accuracy: 0.5251\n",
      "Epoch 55/100\n",
      "219/219 [==============================] - 1s 4ms/step - loss: 0.6903 - accuracy: 0.5210\n",
      "Epoch 56/100\n",
      "219/219 [==============================] - 1s 4ms/step - loss: 0.6893 - accuracy: 0.5239\n",
      "Epoch 57/100\n",
      "219/219 [==============================] - 1s 4ms/step - loss: 0.6891 - accuracy: 0.5290\n",
      "Epoch 58/100\n",
      "219/219 [==============================] - 1s 4ms/step - loss: 0.6895 - accuracy: 0.5297\n",
      "Epoch 59/100\n",
      "219/219 [==============================] - 1s 4ms/step - loss: 0.6886 - accuracy: 0.5306\n",
      "Epoch 60/100\n",
      "219/219 [==============================] - 1s 4ms/step - loss: 0.6879 - accuracy: 0.5344\n",
      "Epoch 61/100\n",
      "219/219 [==============================] - 1s 4ms/step - loss: 0.6884 - accuracy: 0.5306\n",
      "Epoch 62/100\n",
      "219/219 [==============================] - 1s 4ms/step - loss: 0.6880 - accuracy: 0.5314\n",
      "Epoch 63/100\n",
      "219/219 [==============================] - 1s 4ms/step - loss: 0.6885 - accuracy: 0.5366\n",
      "Epoch 64/100\n",
      "219/219 [==============================] - 1s 4ms/step - loss: 0.6875 - accuracy: 0.5356\n",
      "Epoch 65/100\n",
      "219/219 [==============================] - 1s 4ms/step - loss: 0.6880 - accuracy: 0.5330\n",
      "Epoch 66/100\n",
      "219/219 [==============================] - 1s 4ms/step - loss: 0.6879 - accuracy: 0.5311\n",
      "Epoch 67/100\n",
      "219/219 [==============================] - 1s 4ms/step - loss: 0.6881 - accuracy: 0.5354\n",
      "Epoch 68/100\n",
      "219/219 [==============================] - 1s 4ms/step - loss: 0.6887 - accuracy: 0.5283\n",
      "Epoch 69/100\n",
      "219/219 [==============================] - 1s 4ms/step - loss: 0.6871 - accuracy: 0.5351\n",
      "Epoch 70/100\n",
      "219/219 [==============================] - 1s 4ms/step - loss: 0.6886 - accuracy: 0.5383\n",
      "Epoch 71/100\n",
      "219/219 [==============================] - 1s 4ms/step - loss: 0.6878 - accuracy: 0.5340\n",
      "Epoch 72/100\n",
      "219/219 [==============================] - 1s 4ms/step - loss: 0.6875 - accuracy: 0.5321\n",
      "Epoch 73/100\n",
      "219/219 [==============================] - 1s 4ms/step - loss: 0.6868 - accuracy: 0.5423\n",
      "Epoch 74/100\n",
      "219/219 [==============================] - 1s 4ms/step - loss: 0.6855 - accuracy: 0.5453\n",
      "Epoch 75/100\n",
      "219/219 [==============================] - 1s 4ms/step - loss: 0.6860 - accuracy: 0.5361\n",
      "Epoch 76/100\n",
      "219/219 [==============================] - 1s 4ms/step - loss: 0.6868 - accuracy: 0.5446\n",
      "Epoch 77/100\n",
      "219/219 [==============================] - 1s 4ms/step - loss: 0.6872 - accuracy: 0.5387\n",
      "Epoch 78/100\n",
      "219/219 [==============================] - 1s 4ms/step - loss: 0.6868 - accuracy: 0.5414\n",
      "Epoch 79/100\n",
      "219/219 [==============================] - 1s 4ms/step - loss: 0.6857 - accuracy: 0.5420\n",
      "Epoch 80/100\n",
      "219/219 [==============================] - 1s 4ms/step - loss: 0.6861 - accuracy: 0.5404\n",
      "Epoch 81/100\n",
      "219/219 [==============================] - 1s 4ms/step - loss: 0.6857 - accuracy: 0.5429\n",
      "Epoch 82/100\n",
      "219/219 [==============================] - 1s 4ms/step - loss: 0.6862 - accuracy: 0.5339\n",
      "Epoch 83/100\n",
      "219/219 [==============================] - 1s 4ms/step - loss: 0.6854 - accuracy: 0.5420\n",
      "Epoch 84/100\n",
      "219/219 [==============================] - 1s 4ms/step - loss: 0.6844 - accuracy: 0.5437\n",
      "Epoch 85/100\n",
      "219/219 [==============================] - 1s 4ms/step - loss: 0.6853 - accuracy: 0.5414\n",
      "Epoch 86/100\n",
      "219/219 [==============================] - 1s 4ms/step - loss: 0.6842 - accuracy: 0.5349\n",
      "Epoch 87/100\n",
      "219/219 [==============================] - 1s 4ms/step - loss: 0.6873 - accuracy: 0.5354\n",
      "Epoch 88/100\n",
      "219/219 [==============================] - 1s 4ms/step - loss: 0.6848 - accuracy: 0.5406\n",
      "Epoch 89/100\n",
      "219/219 [==============================] - 1s 4ms/step - loss: 0.6857 - accuracy: 0.5437\n",
      "Epoch 90/100\n",
      "219/219 [==============================] - 1s 4ms/step - loss: 0.6858 - accuracy: 0.5406\n",
      "Epoch 91/100\n",
      "219/219 [==============================] - 1s 4ms/step - loss: 0.6838 - accuracy: 0.5480\n",
      "Epoch 92/100\n",
      "219/219 [==============================] - 1s 4ms/step - loss: 0.6858 - accuracy: 0.5399\n",
      "Epoch 93/100\n",
      "219/219 [==============================] - 1s 4ms/step - loss: 0.6852 - accuracy: 0.5434\n",
      "Epoch 94/100\n",
      "219/219 [==============================] - 1s 4ms/step - loss: 0.6848 - accuracy: 0.5433\n",
      "Epoch 95/100\n",
      "219/219 [==============================] - 1s 4ms/step - loss: 0.6848 - accuracy: 0.5351\n",
      "Epoch 96/100\n",
      "219/219 [==============================] - 1s 4ms/step - loss: 0.6855 - accuracy: 0.5444\n",
      "Epoch 97/100\n",
      "219/219 [==============================] - 1s 4ms/step - loss: 0.6856 - accuracy: 0.5404\n",
      "Epoch 98/100\n",
      "219/219 [==============================] - 1s 4ms/step - loss: 0.6844 - accuracy: 0.5366\n",
      "Epoch 99/100\n",
      "219/219 [==============================] - 1s 4ms/step - loss: 0.6844 - accuracy: 0.5433\n",
      "Epoch 100/100\n",
      "219/219 [==============================] - 1s 4ms/step - loss: 0.6853 - accuracy: 0.5344\n",
      "219/219 [==============================] - 1s 3ms/step - loss: 0.6796 - accuracy: 0.5653\n",
      "CNN Model Accuracy: \n",
      "56.52857422828674 %\n"
     ]
    }
   ],
   "source": [
    "inp = Input(shape=(1,10))\n",
    "conv2 = Conv1D(filters=128, kernel_size=5, activation='relu', padding='same')(inp)\n",
    "drop21 = Dropout(0.5)(conv2)\n",
    "conv22 = Conv1D(filters=64, kernel_size=5, activation='relu', padding='same')(drop21)\n",
    "drop22 = Dropout(0.5)(conv22)\n",
    "pool2 = Flatten()(drop22)\n",
    "out = Dense(2, activation='softmax')(pool2)\n",
    "cnn_model = Model(inp, out)\n",
    "cnn_model.compile(loss='sparse_categorical_crossentropy', optimizer='adam', metrics=['accuracy'])\n",
    "history = cnn_model.fit(x_train, y_train, epochs=100)\n",
    "acc= cnn_model.evaluate(x_train, y_train)\n",
    "print(\"CNN Model Accuracy: \")\n",
    "cnn_acc=acc[1]\n",
    "print(cnn_acc*100,\"%\")"
   ]
  },
  {
   "cell_type": "markdown",
   "id": "9a5a5793",
   "metadata": {},
   "source": [
    "### Long Short-Term Memory RNN"
   ]
  },
  {
   "cell_type": "code",
   "execution_count": 35,
   "id": "176c08d2",
   "metadata": {},
   "outputs": [
    {
     "name": "stdout",
     "output_type": "stream",
     "text": [
      "Model: \"sequential_1\"\n",
      "_________________________________________________________________\n",
      "Layer (type)                 Output Shape              Param #   \n",
      "=================================================================\n",
      "bidirectional (Bidirectional (None, 200)               88800     \n",
      "_________________________________________________________________\n",
      "dropout_2 (Dropout)          (None, 200)               0         \n",
      "_________________________________________________________________\n",
      "dense_10 (Dense)             (None, 1)                 201       \n",
      "=================================================================\n",
      "Total params: 89,001\n",
      "Trainable params: 89,001\n",
      "Non-trainable params: 0\n",
      "_________________________________________________________________\n",
      "None\n",
      "Epoch 1/20\n",
      "110/110 [==============================] - 8s 22ms/step - loss: 0.6933 - accuracy: 0.5019 - val_loss: 0.6973 - val_accuracy: 0.4833\n",
      "Epoch 2/20\n",
      "110/110 [==============================] - 1s 9ms/step - loss: 0.6925 - accuracy: 0.5117 - val_loss: 0.7067 - val_accuracy: 0.4633\n",
      "Epoch 3/20\n",
      "110/110 [==============================] - 1s 9ms/step - loss: 0.6926 - accuracy: 0.5179 - val_loss: 0.7078 - val_accuracy: 0.4670\n",
      "Epoch 4/20\n",
      "110/110 [==============================] - 1s 9ms/step - loss: 0.6923 - accuracy: 0.5181 - val_loss: 0.7107 - val_accuracy: 0.4663\n",
      "Epoch 5/20\n",
      "110/110 [==============================] - 1s 9ms/step - loss: 0.6924 - accuracy: 0.5147 - val_loss: 0.7149 - val_accuracy: 0.4627\n",
      "Epoch 6/20\n",
      "110/110 [==============================] - 1s 9ms/step - loss: 0.6923 - accuracy: 0.5164 - val_loss: 0.7190 - val_accuracy: 0.4633\n",
      "Epoch 7/20\n",
      "110/110 [==============================] - 1s 9ms/step - loss: 0.6922 - accuracy: 0.5206 - val_loss: 0.7248 - val_accuracy: 0.4523\n",
      "Epoch 8/20\n",
      "110/110 [==============================] - 1s 9ms/step - loss: 0.6922 - accuracy: 0.5206 - val_loss: 0.7211 - val_accuracy: 0.4563\n",
      "Epoch 9/20\n",
      "110/110 [==============================] - 1s 9ms/step - loss: 0.6922 - accuracy: 0.5137 - val_loss: 0.7193 - val_accuracy: 0.4683\n",
      "Epoch 10/20\n",
      "110/110 [==============================] - 1s 10ms/step - loss: 0.6920 - accuracy: 0.5149 - val_loss: 0.7273 - val_accuracy: 0.4500\n",
      "Epoch 11/20\n",
      "110/110 [==============================] - 1s 9ms/step - loss: 0.6918 - accuracy: 0.5149 - val_loss: 0.7276 - val_accuracy: 0.4523\n",
      "Epoch 12/20\n",
      "110/110 [==============================] - 1s 9ms/step - loss: 0.6921 - accuracy: 0.5260 - val_loss: 0.7339 - val_accuracy: 0.4450\n",
      "Epoch 13/20\n",
      "110/110 [==============================] - 1s 9ms/step - loss: 0.6917 - accuracy: 0.5210 - val_loss: 0.7309 - val_accuracy: 0.4547\n",
      "Epoch 14/20\n",
      "110/110 [==============================] - 1s 9ms/step - loss: 0.6919 - accuracy: 0.5233 - val_loss: 0.7345 - val_accuracy: 0.4457\n",
      "Epoch 15/20\n",
      "110/110 [==============================] - 1s 9ms/step - loss: 0.6917 - accuracy: 0.5194 - val_loss: 0.7342 - val_accuracy: 0.4473\n",
      "Epoch 16/20\n",
      "110/110 [==============================] - 1s 9ms/step - loss: 0.6919 - accuracy: 0.5193 - val_loss: 0.7376 - val_accuracy: 0.4450\n",
      "Epoch 17/20\n",
      "110/110 [==============================] - 1s 9ms/step - loss: 0.6919 - accuracy: 0.5189 - val_loss: 0.7382 - val_accuracy: 0.4473\n",
      "Epoch 18/20\n",
      "110/110 [==============================] - 1s 9ms/step - loss: 0.6917 - accuracy: 0.5217 - val_loss: 0.7383 - val_accuracy: 0.4500\n",
      "Epoch 19/20\n",
      "110/110 [==============================] - 1s 9ms/step - loss: 0.6919 - accuracy: 0.5140 - val_loss: 0.7419 - val_accuracy: 0.4470\n",
      "Epoch 20/20\n",
      "110/110 [==============================] - 1s 9ms/step - loss: 0.6917 - accuracy: 0.5160 - val_loss: 0.7426 - val_accuracy: 0.4500\n",
      "219/219 [==============================] - 2s 4ms/step - loss: 0.6912 - accuracy: 0.5246\n",
      "LSTM Model Accuracy: \n",
      "52.4571418762207 %\n"
     ]
    }
   ],
   "source": [
    "lstm_model=Sequential()\n",
    "lstm_model.add(Bidirectional(LSTM(100, return_sequences=False), input_shape=(1, 10)))\n",
    "lstm_model.add(Dropout(0.3))\n",
    "lstm_model.add(Dense(1, activation='sigmoid'))\n",
    "lstm_model.compile(loss='binary_crossentropy',optimizer='adam',metrics=['accuracy'])\n",
    "print(lstm_model.summary())\n",
    "history = lstm_model.fit(x_train,y_train,validation_data=(x_test,y_test),epochs=20,batch_size=64)\n",
    "acc= lstm_model.evaluate(x_train, y_train)\n",
    "print(\"LSTM Model Accuracy: \")\n",
    "lstm_acc=acc[1]\n",
    "print(lstm_acc*100,\"%\")"
   ]
  },
  {
   "cell_type": "markdown",
   "id": "5aa0d248",
   "metadata": {},
   "source": [
    "## 8. DL Model Evaluation"
   ]
  },
  {
   "cell_type": "code",
   "execution_count": 36,
   "id": "ab74526a",
   "metadata": {},
   "outputs": [
    {
     "data": {
      "image/png": "[encoded data removed]",
      "text/plain": [
       "<Figure size 720x360 with 1 Axes>"
      ]
     },
     "metadata": {
      "needs_background": "light"
     },
     "output_type": "display_data"
    }
   ],
   "source": [
    "accuracies= {\"ANN\": ann_acc, \n",
    "             \"CNN\": cnn_acc, \n",
    "             \"LSTM\": lstm_acc, \n",
    "             }\n",
    "lists = sorted(accuracies.items(), key=lambda x: x[1]*100)\n",
    "plt.figure(figsize=(10,5))\n",
    "plt.bar(*zip(*lists), color=\"aquamarine\")\n",
    "plt.title('Deep Learning Models vs Accuracy')\n",
    "plt.xlabel('Classification Models')\n",
    "plt.ylabel('Accuracy')\n",
    "plt.show()"
   ]
  }
 ],
 "metadata": {
  "kernelspec": {
   "display_name": "Python 3 (ipykernel)",
   "language": "python",
   "name": "python3"
  },
  "language_info": {
   "codemirror_mode": {
    "name": "ipython",
    "version": 3
   },
   "file_extension": ".py",
   "mimetype": "text/x-python",
   "name": "python",
   "nbconvert_exporter": "python",
   "pygments_lexer": "ipython3",
   "version": "3.9.6"
  }
 },
 "nbformat": 4,
 "nbformat_minor": 5
}
